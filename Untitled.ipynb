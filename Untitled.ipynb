{
 "cells": [
  {
   "cell_type": "code",
   "execution_count": 1,
   "metadata": {},
   "outputs": [],
   "source": [
    "from IPython.display import display, HTML\n",
    "from ipykernel.comm import Comm\n",
    "\n",
    "m = None\n",
    "\n",
    "def target_func(comm, open_msg):\n",
    "    @comm.on_msg\n",
    "    def _recv(msg):\n",
    "        global m\n",
    "        m = msg\n",
    "\n",
    "get_ipython().kernel.comm_manager.register_target('test', target_func)"
   ]
  },
  {
   "cell_type": "code",
   "execution_count": 2,
   "metadata": {},
   "outputs": [
    {
     "data": {
      "text/html": [
       "<script src='http://localhost:8080/build.js'></script>"
      ],
      "text/plain": [
       "<IPython.core.display.HTML object>"
      ]
     },
     "metadata": {},
     "output_type": "display_data"
    }
   ],
   "source": [
    "html = \"<script src='http://localhost:8080/build.js'></script>\"\n",
    "display(HTML(html))"
   ]
  },
  {
   "cell_type": "code",
   "execution_count": 32,
   "metadata": {},
   "outputs": [
    {
     "data": {
      "text/plain": [
       "3"
      ]
     },
     "execution_count": 32,
     "metadata": {},
     "output_type": "execute_result"
    }
   ],
   "source": [
    "ppz"
   ]
  },
  {
   "cell_type": "code",
   "execution_count": 4,
   "metadata": {},
   "outputs": [
    {
     "data": {
      "text/plain": [
       "{'header': {'date': datetime.datetime(2021, 9, 3, 11, 45, 19, 734000, tzinfo=tzutc()),\n",
       "  'msg_id': '81e338bf-0b94-4f7a-9c3f-36b4ed26538f',\n",
       "  'msg_type': 'comm_msg',\n",
       "  'session': 'dbf47ee9-36df-463f-9b8e-0c2e64957407',\n",
       "  'username': '',\n",
       "  'version': '5.2'},\n",
       " 'msg_id': '81e338bf-0b94-4f7a-9c3f-36b4ed26538f',\n",
       " 'msg_type': 'comm_msg',\n",
       " 'parent_header': {},\n",
       " 'metadata': {},\n",
       " 'content': {'comm_id': '74323e75-f2cd-4d64-a777-7e945afb5e06',\n",
       "  'data': 'test'},\n",
       " 'buffers': []}"
      ]
     },
     "execution_count": 4,
     "metadata": {},
     "output_type": "execute_result"
    }
   ],
   "source": [
    "m"
   ]
  },
  {
   "cell_type": "code",
   "execution_count": 6,
   "metadata": {},
   "outputs": [],
   "source": [
    "s = None\n",
    "def func():\n",
    "    s = 3\n",
    "func()\n",
    "s"
   ]
  },
  {
   "cell_type": "code",
   "execution_count": 11,
   "metadata": {},
   "outputs": [
    {
     "data": {
      "text/html": [
       "\n",
       "<iframe id=\"my_frame3\" src=\"about:blank\">\n",
       "</iframe>\n",
       "<script>\n",
       "   document.getElementById(\"my_frame3\").contentDocument.body.innerHTML = '<h1>fff</h1>'\n",
       "</script>\n"
      ],
      "text/plain": [
       "<IPython.core.display.HTML object>"
      ]
     },
     "metadata": {},
     "output_type": "display_data"
    }
   ],
   "source": [
    "html = \"\"\"\n",
    "<iframe id=\"my_frame3\" src=\"about:blank\">\n",
    "</iframe>\n",
    "<script>\n",
    "   document.getElementById(\"my_frame3\").contentDocument.body.innerHTML = '<h1>fff</h1>'\n",
    "</script>\n",
    "\"\"\"\n",
    "display(HTML(html))"
   ]
  },
  {
   "cell_type": "code",
   "execution_count": null,
   "metadata": {},
   "outputs": [],
   "source": []
  }
 ],
 "metadata": {
  "kernelspec": {
   "display_name": "Python 3",
   "language": "python",
   "name": "python3"
  },
  "language_info": {
   "codemirror_mode": {
    "name": "ipython",
    "version": 3
   },
   "file_extension": ".py",
   "mimetype": "text/x-python",
   "name": "python",
   "nbconvert_exporter": "python",
   "pygments_lexer": "ipython3",
   "version": "3.8.3"
  }
 },
 "nbformat": 4,
 "nbformat_minor": 4
}
