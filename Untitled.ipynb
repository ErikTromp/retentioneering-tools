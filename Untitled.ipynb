{
 "cells": [
  {
   "cell_type": "code",
   "execution_count": 1,
   "metadata": {},
   "outputs": [],
   "source": [
    "from IPython.display import display, HTML\n",
    "from ipykernel.comm import Comm\n",
    "\n",
    "m = None\n",
    "\n",
    "def target_func(comm, open_msg):\n",
    "    @comm.on_msg\n",
    "    def _recv(msg):\n",
    "        global m\n",
    "        m = msg\n",
    "\n",
    "get_ipython().kernel.comm_manager.register_target('test', target_func)"
   ]
  },
  {
   "cell_type": "code",
   "execution_count": 2,
   "metadata": {},
   "outputs": [
    {
     "data": {
      "text/html": [
       "<script src='http://localhost:8080/build.js'></script>"
      ],
      "text/plain": [
       "<IPython.core.display.HTML object>"
      ]
     },
     "metadata": {},
     "output_type": "display_data"
    }
   ],
   "source": [
    "html = \"<script src='http://localhost:8080/build.js'></script>\"\n",
    "display(HTML(html))"
   ]
  },
  {
   "cell_type": "code",
   "execution_count": 9,
   "metadata": {},
   "outputs": [
    {
     "data": {
      "text/plain": [
       "7"
      ]
     },
     "execution_count": 9,
     "metadata": {},
     "output_type": "execute_result"
    }
   ],
   "source": [
    "from retentioneering.lib.jupyter_server.server import inc, get\n",
    "inc()\n",
    "\n",
    "get()"
   ]
  },
  {
   "cell_type": "code",
   "execution_count": 4,
   "metadata": {},
   "outputs": [
    {
     "data": {
      "text/plain": [
       "{'header': {'date': datetime.datetime(2021, 9, 3, 11, 45, 19, 734000, tzinfo=tzutc()),\n",
       "  'msg_id': '81e338bf-0b94-4f7a-9c3f-36b4ed26538f',\n",
       "  'msg_type': 'comm_msg',\n",
       "  'session': 'dbf47ee9-36df-463f-9b8e-0c2e64957407',\n",
       "  'username': '',\n",
       "  'version': '5.2'},\n",
       " 'msg_id': '81e338bf-0b94-4f7a-9c3f-36b4ed26538f',\n",
       " 'msg_type': 'comm_msg',\n",
       " 'parent_header': {},\n",
       " 'metadata': {},\n",
       " 'content': {'comm_id': '74323e75-f2cd-4d64-a777-7e945afb5e06',\n",
       "  'data': 'test'},\n",
       " 'buffers': []}"
      ]
     },
     "execution_count": 4,
     "metadata": {},
     "output_type": "execute_result"
    }
   ],
   "source": [
    "m"
   ]
  },
  {
   "cell_type": "code",
   "execution_count": 6,
   "metadata": {},
   "outputs": [],
   "source": [
    "s = None\n",
    "def func():\n",
    "    s = 3\n",
    "func()\n",
    "s"
   ]
  },
  {
   "cell_type": "code",
   "execution_count": 11,
   "metadata": {},
   "outputs": [
    {
     "data": {
      "text/html": [
       "\n",
       "<iframe id=\"my_frame3\" src=\"about:blank\">\n",
       "</iframe>\n",
       "<script>\n",
       "   document.getElementById(\"my_frame3\").contentDocument.body.innerHTML = '<h1>fff</h1>'\n",
       "</script>\n"
      ],
      "text/plain": [
       "<IPython.core.display.HTML object>"
      ]
     },
     "metadata": {},
     "output_type": "display_data"
    }
   ],
   "source": [
    "html = \"\"\"\n",
    "<iframe id=\"my_frame3\" src=\"about:blank\">\n",
    "</iframe>\n",
    "<script>\n",
    "   document.getElementById(\"my_frame3\").contentDocument.body.innerHTML = '<h1>fff</h1>'\n",
    "</script>\n",
    "\"\"\"\n",
    "display(HTML(html))"
   ]
  },
  {
   "cell_type": "code",
   "execution_count": 1,
   "metadata": {},
   "outputs": [
    {
     "data": {
      "text/plain": [
       "'68b78036-c543-4c8e-a9be-0a1acce9c2c1'"
      ]
     },
     "execution_count": 1,
     "metadata": {},
     "output_type": "execute_result"
    }
   ],
   "source": [
    "from retentioneering.utils.jupyter_server.server import ServerManager\n",
    "\n",
    "serverManager = ServerManager()\n",
    "server = serverManager.create_server()\n",
    "server.id"
   ]
  },
  {
   "cell_type": "code",
   "execution_count": 2,
   "metadata": {},
   "outputs": [],
   "source": [
    "def myaction(p):\n",
    "    return { \"data\": 3 }\n",
    "\n",
    "server.use(\"test-method\", myaction)"
   ]
  },
  {
   "cell_type": "code",
   "execution_count": 3,
   "metadata": {},
   "outputs": [
    {
     "data": {
      "text/html": [
       "<script>window.process = { env: {} }</script>"
      ],
      "text/plain": [
       "<IPython.core.display.HTML object>"
      ]
     },
     "metadata": {},
     "output_type": "display_data"
    },
    {
     "data": {
      "text/html": [
       "<script src=\"http://localhost:8080/build.js\"></script>"
      ],
      "text/plain": [
       "<IPython.core.display.HTML object>"
      ]
     },
     "metadata": {},
     "output_type": "display_data"
    }
   ],
   "source": [
    "from IPython.core.display import display, HTML\n",
    "display(HTML(\"<script>window.process = { env: {} }</script>\"))\n",
    "display(HTML('<script src=\"http://localhost:8080/build.js\"></script>'))"
   ]
  },
  {
   "cell_type": "code",
   "execution_count": 12,
   "metadata": {},
   "outputs": [
    {
     "data": {
      "text/plain": [
       "UUID('bd2e3cc6-cbe7-42ee-94bb-9b54b75c7465')"
      ]
     },
     "execution_count": 12,
     "metadata": {},
     "output_type": "execute_result"
    }
   ],
   "source": [
    "uuid.uuid4()"
   ]
  },
  {
   "cell_type": "code",
   "execution_count": 13,
   "metadata": {},
   "outputs": [
    {
     "data": {
      "text/plain": [
       "[1]"
      ]
     },
     "execution_count": 13,
     "metadata": {},
     "output_type": "execute_result"
    }
   ],
   "source": [
    "_servers = []\n",
    "_servers.append(1)\n",
    "_servers"
   ]
  },
  {
   "cell_type": "code",
   "execution_count": 23,
   "metadata": {},
   "outputs": [
    {
     "data": {
      "text/plain": [
       "6"
      ]
     },
     "execution_count": 23,
     "metadata": {},
     "output_type": "execute_result"
    }
   ],
   "source": [
    "def s():\n",
    "    return 3\n",
    "\n",
    "m = 0\n",
    "\n",
    "def p():\n",
    "    global m\n",
    "    m = m + 1\n",
    "    return s() + m\n",
    "\n",
    "p()\n",
    "p()\n",
    "p()"
   ]
  },
  {
   "cell_type": "code",
   "execution_count": 26,
   "metadata": {},
   "outputs": [
    {
     "data": {
      "text/plain": [
       "2"
      ]
     },
     "execution_count": 26,
     "metadata": {},
     "output_type": "execute_result"
    }
   ],
   "source": [
    "def singleton(class_):\n",
    "    instances = {}\n",
    "    def getinstance(*args, **kwargs):\n",
    "        if class_ not in instances:\n",
    "            instances[class_] = class_(*args, **kwargs)\n",
    "        return instances[class_]\n",
    "    return getinstance\n",
    "\n",
    "@singleton\n",
    "class Counter():\n",
    "    def __init__(self):\n",
    "        self.counter = 0\n",
    "        \n",
    "    def inc(self):\n",
    "        self.counter += 1\n",
    "\n",
    "counter1 = Counter()\n",
    "counter2 = Counter()\n",
    "\n",
    "counter1.inc()\n",
    "counter2.inc()\n",
    "counter2.counter"
   ]
  },
  {
   "cell_type": "code",
   "execution_count": 27,
   "metadata": {},
   "outputs": [
    {
     "data": {
      "text/plain": [
       "False"
      ]
     },
     "execution_count": 27,
     "metadata": {},
     "output_type": "execute_result"
    }
   ],
   "source": [
    "def check_enviroment():\n",
    "    try:\n",
    "        import google.colab\n",
    "        return True\n",
    "    except:\n",
    "        return False\n",
    "    \n",
    "check_enviroment()"
   ]
  },
  {
   "cell_type": "code",
   "execution_count": 12,
   "metadata": {},
   "outputs": [
    {
     "data": {
      "text/plain": [
       "3"
      ]
     },
     "execution_count": 12,
     "metadata": {},
     "output_type": "execute_result"
    }
   ],
   "source": [
    "def call_cb(cb):\n",
    "    return cb()\n",
    "\n",
    "\n",
    "class Test():\n",
    "    def cb(self):\n",
    "        self.data = 3\n",
    "        return self.data\n",
    "    \n",
    "    def passcb(self):\n",
    "        return call_cb(lambda : self.cb())\n",
    "        \n",
    "test = Test()\n",
    "t = test.passcb()\n",
    "t\n",
    "\n",
    "def func(t: Test):\n",
    "    return test.data\n",
    "\n",
    "func(test)"
   ]
  },
  {
   "cell_type": "code",
   "execution_count": 2,
   "metadata": {},
   "outputs": [
    {
     "data": {
      "text/plain": [
       "'df896fa7-b813-499b-bf35-f45f08fd557a'"
      ]
     },
     "execution_count": 2,
     "metadata": {},
     "output_type": "execute_result"
    }
   ],
   "source": [
    "from retentioneering.lib.jupyter_server.server import ServerManager\n",
    "\n",
    "sm = ServerManager()\n",
    "server = sm.create_server()\n",
    "\n",
    "def action(p):\n",
    "    return { \"b\": \"hui\" }\n",
    "\n",
    "server.use(\"test-method\", action)\n",
    "server.id"
   ]
  },
  {
   "cell_type": "code",
   "execution_count": 2,
   "metadata": {},
   "outputs": [
    {
     "data": {
      "text/plain": [
       "'b076a62d-39c2-4f00-8986-b79a87849edb'"
      ]
     },
     "execution_count": 2,
     "metadata": {},
     "output_type": "execute_result"
    }
   ],
   "source": []
  },
  {
   "cell_type": "code",
   "execution_count": 4,
   "metadata": {},
   "outputs": [
    {
     "data": {
      "text/plain": [
       "<retentioneering.lib.jupyter_server.server.JupyterServer at 0x7fdba0131210>"
      ]
     },
     "execution_count": 4,
     "metadata": {},
     "output_type": "execute_result"
    }
   ],
   "source": [
    "f = sm._find_server(\"5282a6b4-2b41-4f2f-8ade-14c83adc26d3\")\n",
    "f"
   ]
  },
  {
   "cell_type": "code",
   "execution_count": 5,
   "metadata": {},
   "outputs": [
    {
     "data": {
      "text/plain": [
       "{'some_data': [1, 2, 3]}"
      ]
     },
     "execution_count": 5,
     "metadata": {},
     "output_type": "execute_result"
    }
   ],
   "source": [
    "inc"
   ]
  },
  {
   "cell_type": "code",
   "execution_count": 3,
   "metadata": {},
   "outputs": [
    {
     "data": {
      "text/plain": [
       "1"
      ]
     },
     "execution_count": 3,
     "metadata": {},
     "output_type": "execute_result"
    }
   ],
   "source": [
    "inc['some_data'][0]"
   ]
  },
  {
   "cell_type": "code",
   "execution_count": 5,
   "metadata": {},
   "outputs": [
    {
     "data": {
      "text/plain": [
       "'no result'"
      ]
     },
     "execution_count": 5,
     "metadata": {},
     "output_type": "execute_result"
    }
   ],
   "source": [
    "response_result"
   ]
  },
  {
   "cell_type": "code",
   "execution_count": null,
   "metadata": {},
   "outputs": [],
   "source": []
  }
 ],
 "metadata": {
  "kernelspec": {
   "display_name": "Python 3 (ipykernel)",
   "language": "python",
   "name": "python3"
  },
  "language_info": {
   "codemirror_mode": {
    "name": "ipython",
    "version": 3
   },
   "file_extension": ".py",
   "mimetype": "text/x-python",
   "name": "python",
   "nbconvert_exporter": "python",
   "pygments_lexer": "ipython3",
   "version": "3.7.5"
  }
 },
 "nbformat": 4,
 "nbformat_minor": 4
}
